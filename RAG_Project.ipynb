{
  "cells": [
    {
      "cell_type": "markdown",
      "metadata": {
        "id": "rujZug_Xq3CS"
      },
      "source": [
        "# **KAUSTUBH GUPTA**\n",
        "(kaustubh.r.gupta@gmail.com)"
      ]
    },
    {
      "cell_type": "code",
      "execution_count": 183,
      "metadata": {
        "collapsed": true,
        "id": "cO2x8T7qpenZ"
      },
      "outputs": [],
      "source": [
        "!pip install -qU langchain langchain_community langchain_openai langchain_chroma"
      ]
    },
    {
      "cell_type": "code",
      "execution_count": 184,
      "metadata": {
        "id": "Tn0H7CahpekV"
      },
      "outputs": [],
      "source": [
        "import os\n",
        "from langchain_chroma import Chroma\n",
        "from langchain_core.prompts import PromptTemplate\n",
        "from langchain_openai import OpenAIEmbeddings, ChatOpenAI\n",
        "from langchain_text_splitters import CharacterTextSplitter\n",
        "from langchain_core.runnables import RunnablePassthrough\n",
        "from langchain_core.output_parsers.string import StrOutputParser"
      ]
    },
    {
      "cell_type": "markdown",
      "metadata": {
        "id": "mcPLp22gre9L"
      },
      "source": [
        "## **Document Processing**"
      ]
    },
    {
      "cell_type": "markdown",
      "metadata": {
        "id": "gn7pA4U0uX99"
      },
      "source": [
        "PDF Miner: Processes texts, tables and images."
      ]
    },
    {
      "cell_type": "code",
      "execution_count": 185,
      "metadata": {
        "id": "eG-XRS-Tpehg"
      },
      "outputs": [],
      "source": [
        "!pip install -qU langchain_community pdfminer.six"
      ]
    },
    {
      "cell_type": "code",
      "execution_count": 186,
      "metadata": {
        "id": "Ez0aTKsIqkkP"
      },
      "outputs": [],
      "source": [
        "from langchain_community.document_loaders import PDFMinerLoader\n",
        "\n",
        "file_path = \"/content/OverviewofRenewableEnergyPowerGenerationandConversion2015-2023.pdf\"\n",
        "loader = PDFMinerLoader(file_path)"
      ]
    },
    {
      "cell_type": "code",
      "execution_count": 187,
      "metadata": {
        "colab": {
          "base_uri": "https://localhost:8080/"
        },
        "id": "xk3HteWkqkhj",
        "outputId": "7c272a92-89cc-4408-9c76-40a13a8ba1df"
      },
      "outputs": [
        {
          "name": "stderr",
          "output_type": "stream",
          "text": [
            "WARNING:pdfminer.pdfpage:CropBox missing from /Page, defaulting to MediaBox\n",
            "WARNING:pdfminer.pdfpage:CropBox missing from /Page, defaulting to MediaBox\n",
            "WARNING:pdfminer.pdfpage:CropBox missing from /Page, defaulting to MediaBox\n",
            "WARNING:pdfminer.pdfpage:CropBox missing from /Page, defaulting to MediaBox\n",
            "WARNING:pdfminer.pdfpage:CropBox missing from /Page, defaulting to MediaBox\n",
            "WARNING:pdfminer.pdfpage:CropBox missing from /Page, defaulting to MediaBox\n",
            "WARNING:pdfminer.pdfpage:CropBox missing from /Page, defaulting to MediaBox\n",
            "WARNING:pdfminer.pdfpage:CropBox missing from /Page, defaulting to MediaBox\n",
            "WARNING:pdfminer.pdfpage:CropBox missing from /Page, defaulting to MediaBox\n",
            "WARNING:pdfminer.pdfpage:CropBox missing from /Page, defaulting to MediaBox\n",
            "WARNING:pdfminer.pdfpage:CropBox missing from /Page, defaulting to MediaBox\n",
            "WARNING:pdfminer.pdfpage:CropBox missing from /Page, defaulting to MediaBox\n",
            "WARNING:pdfminer.pdfpage:CropBox missing from /Page, defaulting to MediaBox\n",
            "WARNING:pdfminer.pdfpage:CropBox missing from /Page, defaulting to MediaBox\n",
            "WARNING:pdfminer.pdfpage:CropBox missing from /Page, defaulting to MediaBox\n",
            "WARNING:pdfminer.pdfpage:CropBox missing from /Page, defaulting to MediaBox\n",
            "WARNING:pdfminer.pdfpage:CropBox missing from /Page, defaulting to MediaBox\n",
            "WARNING:pdfminer.pdfpage:CropBox missing from /Page, defaulting to MediaBox\n",
            "WARNING:pdfminer.pdfpage:CropBox missing from /Page, defaulting to MediaBox\n",
            "WARNING:pdfminer.pdfpage:CropBox missing from /Page, defaulting to MediaBox\n"
          ]
        },
        {
          "name": "stdout",
          "output_type": "stream",
          "text": [
            "page_content='See discussions, stats, and author profiles for this publication at: https://www.researchgate.net/publication/372441898\n",
            "\n",
            "Overview of Renewable Energy Power Generation and Conversion (2015-2023)\n",
            "\n",
            "Article · July 2023\n",
            "\n",
            "CITATIONS\n",
            "24\n",
            "\n",
            "7 authors, including:\n",
            "\n",
            "READS\n",
            "401\n",
            "\n",
            "Val Hyginus U. Eze\n",
            "\n",
            "Kampala International University (KIU)\n",
            "\n",
            "141 PUBLICATIONS   1,114 CITATIONS   \n",
            "\n",
            "Enerst Edozie\n",
            "\n",
            "Kampala International University (KIU)\n",
            "\n",
            "36 PUBLICATIONS   240 CITATIONS   \n",
            "\n",
            "SEE PROFILE\n",
            "\n",
            "SEE PROFILE\n",
            "\n",
            "Kalyankolo Umaru\n",
            "\n",
            "MUNI University\n",
            "\n",
            "30 PUBLICATIONS   120 CITATIONS   \n",
            "\n",
            "SEE PROFILE\n",
            "\n",
            "Wisdom Onyema Okafor\n",
            "\n",
            "Continental Transfer Technique\n",
            "\n",
            "35 PUBLICATIONS   194 CITATIONS   \n",
            "\n",
            "SEE PROFILE\n",
            "\n",
            "All content following this page was uploaded by Kiu Publication Extension on 18 July 2023.\n",
            "\n",
            "The user has requested enhancement of the downloaded file.\n",
            "\fEEJOURNALS                                                                                                                                          OPEN ACCESS \n",
            "EURASIAN             EXPERIMENT        JOURNAL      OF          ENGINEERING    \n",
            "(EEJE)                                                                                ISSN: 2992-409X  \n",
            "©EEJE Publications                                                    Volume 4 Issue  1  2023 \n",
            "\n",
            "Overview of Renewable Energy Power Generation and \n",
            "Conversion (2015-2023) \n",
            "\n",
            "Page | 105 \n",
            "\n",
            "Val Hyginus Udoka Eze1, *, Enerst Edozie2, Kalyankolo Umaru3, Okafor O. \n",
            "Wisdom4, Ugwu Chinyere N5, Ogenyi Fabian Chukwudi6 \n",
            "\n",
            "1,2Department  of  Electrical,  Telecommunication  and  Computer \n",
            "Engineering, Kampala International University, Uganda.  \n",
            "1,5,6Department  of  Publication  and  Extension,  Kampala  International \n",
            "University, Uganda  \n",
            "4Department  of  Computer  Science  and  Technology,  University  of \n",
            "Bedfordshire, Luton, England \n",
            "3Department  of  Computer  Science  and  Electrical  Engineering,  Muni \n",
            "University, Uganda \n",
            "*Corresponding Author, E-mail: ezehyginusudoka@gmail.com \n",
            "\n",
            "ABSTRACT \n",
            "This  paper  successfully  reviewed  the  renewable  energy  trend  from  2015  to  2023  based  on  investment,  power \n",
            "conversion and future prospect. From the review it was observed that solar energy is progressively taking the lead \n",
            "as the cleanest energy generator followed by the wind turbine since 2019-2023. It also detailed the overview of solar \n",
            "photovoltaic technologies, photovoltaic conversion Efficiency Enhancement and the solar photovoltaic generations \n",
            "which showed that China is the most invested country in renewable energy followed by European union. From this \n",
            "paper  it  was  clear  that  the  renewable  energy  research  trend  has  shifted  to  third  generation  solar  photovoltaic \n",
            "(perovskites) and power conversion efficiency enhancement (Maximum Power Point Tracking). Perovskites as the \n",
            "third generational solar cell gives the best energy conversion due to its absorption coefficient, exceptional carrier \n",
            "mobility,  high  dielectric  constant,  tunable  bandgap,  materials  abundance  and  as  such  recommended  for  solar \n",
            "installers and other PV designer. \n",
            "Keywords: Solar Photovoltaics, Renewable Energy, Conversion Efficiency, Perovskites, MPPT \n",
            "\n",
            "INTRODUCTION \n",
            "The Covid-19 pandemic and its effect to the global energy crisis have provided a significant boost in clean energy \n",
            "sector. The 21st decade quest for clean and safe energy is increasing everyday with improvement in technology. The \n",
            "estimates for 2023 (2023e) with the data for 2021  annual clean energy showed that there are 9% increase in the \n",
            "renewable  energy  investment  compared  to  fossil  fuels.    This  showed  that  about  2.8  trillion  USD  will  be \n",
            "approximately invested in energy in 2023 and more than 1.7 trillion USD will be invested in clean energy, including \n",
            "renewable power, nuclear, grids, storage, low-emission fuels, efficiency improvements and end-use renewables and \n",
            "electrification. Hence, the remaining 1 trillion USD will be invested in  unabated fossil fuel supply and power, of \n",
            "which around 15% is to coal and the rest to oil and gas. Five years ago this ratio of fossil fuel to clean energy was \n",
            "1:1 but in 2023 the ratio will be 1:1.7 which showed that Clean energy investments have been boosted by a variety \n",
            "© Eze et al., 2023 \n",
            "This  is  an  Open  Access  article  distributed  under  the  terms  of  the  Creative  Commons  Attribution  License \n",
            "(http://creativecommons.org/licenses/by/4.0),  which  permits  unrestricted  use,  distribution,  and  reproduction  in \n",
            "any medium, provided the original work is properly cited.\n",
            "\fEEJOURNALS                                                                                                                                          OPEN ACCESS \n",
            "of factors. These include improved economics at a time of high and volatile fossil fuel prices and as well as enhanced \n",
            "government policy support [1], [2] One of the major causes of shift from conversional sources of energy generation \n",
            "to renewable is the problem of the depletion of the ozone layer caused by  the excess concentration of CO2 in the \n",
            "atmosphere  [3]  [4].  Therefore,  humankind  is  looking  for  an  alternative  energy  sources  like  solar  and  wind  for \n",
            "effective and reliable energy that is harmless. \n",
            "\n",
            "Types of Renewable Energy \n",
            "\n",
            "Page | 106 \n",
            "\n",
            "  Wind energy: The type of energy harnessed from the wind. \n",
            " \n",
            "\n",
            " Solar  energy:  The  type  of  energy  harnessed  from  the  sun.  The  main  technologies  here  are  solar \n",
            "photovoltaic (using the light from the sun) and solar thermal (using the sun’s heat) \n",
            "\n",
            "  Hydroelectric energy: The type of energy harnessed from rivers and other freshwater currents. \n",
            "  Biomass and biogas: The type of energy extracted from organic materials. \n",
            "  Geothermal energy: The type of energy harnessed from the heat inside the Earth. \n",
            "  Tidal energy: The type of energy harnessed from the tides.  \n",
            "  Wave energy: The type of energy harnessed from ocean waves.  \n",
            "  Bioethanol: The type of energy harnessed from the fermentation of vegetation which results in the organic \n",
            "\n",
            "fuel suitable for vehicles. \n",
            "\n",
            "  Biodiesel: The type of energy harnessed from vegetable oils which among other applications, also results \n",
            "\n",
            "in the organic fuel suitable for the vehicles  [5] [3]. \n",
            "\n",
            "Renewable Energy Trend \n",
            "\n",
            "This section will compare the renewables (clean) and none-renewable (fossil fuels) sources of energy based on world \n",
            "financial investment, performance and the one that will likely have the best future potential. \n",
            "\n",
            "  Figure 1: Global Energy Investment in Renewable and None-Renewable (2015-2023) [1]From figure 1 it \n",
            "\n",
            "was observed that there is more investment in the none renewable energy in 2015 and in the year 2016-2019 there \n",
            "are  slightly  an  increase  in  the  renewable  energy  investment.  From  the  year  2020-  July  2023,  the  investment  in \n",
            "renewable  energy  is  about  two-third  of  the  investment  in  none  renewable  energy.  From  figure1,  one  can  easily \n",
            "conclude that there is serious shift from the none renewable sources of energy to renewable sources of energy. \n",
            "\n",
            "© Eze et al., 2023 \n",
            "This  is  an  Open  Access  article  distributed  under  the  terms  of  the  Creative  Commons  Attribution  License \n",
            "(http://creativecommons.org/licenses/by/4.0),  which  permits  unrestricted  use,  distribution,  and  reproduction  in \n",
            "any medium, provided the original work is properly cited.\n",
            "\fEEJOURNALS                                                                                                                                          OPEN ACCESS \n",
            "\n",
            "Page | 107 \n",
            "\n",
            "Figure 2: global energy sector investments (2019-2023) \n",
            "\n",
            "Low-emission  fuels”  include  modern  liquid  and  gaseous  bioenergy,  low-emission  hydrogen  and  low-emission \n",
            "hydrogen-based fuels; “Other end use” refers to renewables for end use and electrification in the buildings, transport \n",
            "and industrial sectors. The terms grids and networks are used interchangeably in this paper and do not distinguish \n",
            "between transmission and distribution and e in 2023 means estimated values for 2023 [1][3]. From figure 2, it was \n",
            "observed that renewable energy is still taking the lead in the global energy sector from 2019-2023 followed by the \n",
            "upstream oil and gas. \n",
            "\n",
            "Figure 3: Annual clean Energy Investment in some countries (2019-2023e) [1] \n",
            "\n",
            "From figure 3, it was observed that china is investing so acidulously in renewable energy more than every other \n",
            "\n",
            "country in the world. the second largest investors in renewable energy is the European Union (EU) followed by \n",
            "United State of America (USA). Russia and Indonesia has the least investment among the selected countries as of \n",
            "2023 records obtained from [1] \n",
            "\n",
            "© Eze et al., 2023 \n",
            "This  is  an  Open  Access  article  distributed  under  the  terms  of  the  Creative  Commons  Attribution  License \n",
            "(http://creativecommons.org/licenses/by/4.0),  which  permits  unrestricted  use,  distribution,  and  reproduction  in \n",
            "any medium, provided the original work is properly cited.\n",
            "\fEEJOURNALS                                                                                                                                          OPEN ACCESS \n",
            "\n",
            "Page | 108 \n",
            "\n",
            "       Figure 4: Renewable Sources of Energy and their Generated Power from 2020-2023 [5] \n",
            "\n",
            "Figure 4 showed the energy generated by difference renewable energy sources, it was clearly observed that solar \n",
            "has the leading trend. The most leading renewable energies in 2023 are solar, wind, nuclear and gas whereas hydro \n",
            "and  coal  are  diminishing  with  respect  to  the  years.  Solar  photovoltaic  has  the  brightest  prospect  among  all  the \n",
            "renewable sources of energy and with this rapid increase will make a very great history in energy sector before 2050. \n",
            "The second is wind which is still in the performance level of solar in the year 2020 and with this it may still be \n",
            "among the trending one as it decreased in 2021 and picked up in 2022 and 2023 [5]. \n",
            "\n",
            "Overview of Solar Energy \n",
            "\n",
            "The major component of a solar photovoltaic (PV) system is the PV module which is made up of solar cells. A solar \n",
            "cell converts the energy in the photons of sunlight into electricity by the means of the PV phenomenon found in \n",
            "certain types of semiconductor materials such as selenium (Se) germanium (Ge) and silicon (Si). In isolated operation, \n",
            "Photovoltaic cell produces a negligible amount of power. To produce substantial electrical output power, solar cells \n",
            "are connected in series and parallel to form a PV module. PV cells are connected in series to increase voltage output \n",
            "and connected in parallel to increase the current output [6] [7]. \n",
            "\n",
            "Methods of conversions of solar Energy \n",
            "\n",
            "The two major ways solar energy can be converted to electrical energy are through concentrating solar power and \n",
            "solar photovoltaics \n",
            "\n",
            "Concentrating solar power (CSP): CSP is a system that produce heat or electricity by hundreds of mirrors that \n",
            "concentrate the sunlight to a temperature commonly between 400 and 1000 °C. Figure 5 is the conversion process \n",
            "of the concentrated solar power plant.  \n",
            "\n",
            "© Eze et al., 2023 \n",
            "This  is  an  Open  Access  article  distributed  under  the  terms  of  the  Creative  Commons  Attribution  License \n",
            "(http://creativecommons.org/licenses/by/4.0),  which  permits  unrestricted  use,  distribution,  and  reproduction  in \n",
            "any medium, provided the original work is properly cited.\n",
            "\fEEJOURNALS                                                                                                                                          OPEN ACCESS \n",
            "\n",
            "Page | 109 \n",
            "\n",
            "Figure 5: Concentrated Solar Power Plant [3] \n",
            "\n",
            "Solar Photovoltaic Powers: Electricity can be produced through the photovoltaic solar energy system. PV cells \n",
            "convert radiant energy from the sun directly into electricity through a solar photovoltaic phenomenon.  The most \n",
            "common  solar  photovoltaic  panels  are;  monocrystalline  silicon  solar  cells,  polycrystalline  silicon  solar  cells, \n",
            "microcrystalline silicon solar cells as well as the cadmium telluride and copper-indium-gallium-diselenide (CIGS) \n",
            "solar cells. Figure 6 is the solar photovoltaic cells and the bulb that was lighted from the conversion processes. \n",
            "\n",
            "       Figure 6: Solar Photovoltaic Cells [3] \n",
            "\n",
            "Photovoltaic (PV) systems are rated in terms of maximum power which is the highest power that can be generated \n",
            "by PV system under Standard Test Condition (STC). The power output efficiency of the solar module depends on \n",
            "many factors such as temperature,  irradiance and spectral characteristics of sunlight. At STC the temperature is \n",
            "25°C, solar irradiance is 1,000 W/ m2, air mass is 1.5, wind speed is 2 m/s and solar panels tilt angle when it faces \n",
            "south is 30°. Under normal operating conditions, maximum power generation from PV is not possible because the \n",
            "PV panel cannot always be operating at optimum power. PV systems generate the highest amount of power when \n",
            "the incident sun beam is perpendicular to the panel. The effective utilization of power from the sun using PV systems \n",
            "is improved by adding PV Efficiency Enhancement (EE) systems such as solar tracking system and fabrications [4], \n",
            "[6]–[11]. Solar Photovoltaic efficiency optimization techniques are maximum power point tracking (MPPT) and \n",
            "Fabrication methods. \n",
            "\n",
            "PV modules transfer the highest percentage of power generated to the load at MPP. MPP is a point along the P-V \n",
            "characteristic of a PV panel where the photovoltaic impedance is equal to the load impedance. It is also a point where \n",
            "\n",
            "© Eze et al., 2023 \n",
            "This  is  an  Open  Access  article  distributed  under  the  terms  of  the  Creative  Commons  Attribution  License \n",
            "(http://creativecommons.org/licenses/by/4.0),  which  permits  unrestricted  use,  distribution,  and  reproduction  in \n",
            "any medium, provided the original work is properly cited.\n",
            "\fEEJOURNALS                                                                                                                                          OPEN ACCESS \n",
            "there is negligible energy loss in the transmission of the generated power to the load. MPP along the P-V curve is \n",
            "detected using MPPT techniques. MPPT is the method of operating the photovoltaic system in a manner that allows \n",
            "the modules to transfer most of the power generated to the load. It is implemented in charge controllers alongside \n",
            "battery charge level monitoring system [12]. MPPT varies the electrical operating point of the PV system so that \n",
            "the module will deliver nearly all the generated power to the load. It ensures that maximum power is transferred \n",
            "from the photovoltaic (PV) panel to the load [7]. \n",
            "\n",
            "PV  efficiency  enhancement  can  be  improved  through  fabrication  by  the  process  of  selecting  elements  with  high \n",
            "absorption coefficient, exceptional carrier mobility, high dielectric constant, tunable bandgap, materials abundance \n",
            "[5], [7], [11], [13], [14]. \n",
            "\n",
            "Page | 110 \n",
            "\n",
            "Classifications of Solar Photovoltaic Technology \n",
            "\n",
            "The Solar PV cell technologies are generally classified into thin-film solar PV cell technology, Wafer-based \n",
            "crystalline solar PV cell technology and other recently emerging technologies. The two major commercial \n",
            "photovoltaic technologies invoke that are being used by the Photovoltaic designers due to their trending \n",
            "availability in the renewable energy market are: \n",
            "\n",
            "(i) \n",
            "(ii) \n",
            "\n",
            "Wafer-based Solar cells made from crystalline silicon either as single or polycrystalline wafers  \n",
            "(ii) Thin-film products typically incorporate thin layers of PV active material placed on a glass/metal \n",
            "substrate using vacuum deposition [6].  \n",
            "\n",
            "Figure 7 is the solar generation cell technology and its made up of different first, second and third generations. \n",
            "\n",
            "Figure 7: Generation of Solar Cell Technology[6] \n",
            "\n",
            "1.  First Generation Solar Photovoltaic \n",
            "\n",
            "Crystalline Silicon (c-Si) \n",
            "\n",
            "Crystalline silicon (c-Si) is a type of solar cell with efficiency of around 12–20% and a life span of almost 30 years. \n",
            "The main applications of single crystal solar cells are in space, or as modules for roofs and on facades. It is the most \n",
            "used  semiconductor  material  for  the  manufacturing  of  photovoltaic  solar  cells.  Electronically,  a  monocrystalline \n",
            "silicon is  used in the production of microchips. The c-Si  known as wafer based silicon solar cells are made from \n",
            "wafers with characteristics such as thickness of 160/190μm, efficiency of 25.6± 0.5%, areas of 143.7cm2 and open \n",
            "circuit voltage of 0.740V [14]–[21].  \n",
            "\n",
            "© Eze et al., 2023 \n",
            "This  is  an  Open  Access  article  distributed  under  the  terms  of  the  Creative  Commons  Attribution  License \n",
            "(http://creativecommons.org/licenses/by/4.0),  which  permits  unrestricted  use,  distribution,  and  reproduction  in \n",
            "any medium, provided the original work is properly cited.\n",
            "\fEEJOURNALS                                                                                                                                          OPEN ACCESS \n",
            "Polycrystalline Solar Cell (Multi-Si) \n",
            "\n",
            "Another name for polycrystalline silicon is Polysilicon (Poly-Si) and it is a highly purified type of silicon used by \n",
            "solar PV companies as raw material. This process is directly cast into multi-crystalline ingots to grow single boule \n",
            "of  silicon  crystals.  The  crystals  are  then  sliced  into  wafers,  assembled  for  the  production  of  solar  PV  cells.  The \n",
            "advantage of Polysilicon cells use is that it is less expensive and its disadvantage is that it is less efficient. \n",
            "\n",
            "Amorphous Silicon Solar Cells (a-Si) \n",
            "\n",
            "Page | 111 \n",
            "\n",
            "Amorphous silicon is one of the most well-developed of the thin-film technologies that comprise of microcrystalline \n",
            "form of silicon. The high bandgap of 1.7eV of amorphous silicon materials made it an outstanding type of  silicon \n",
            "technology.  The  visible  light  spectrum  was  absorbed  by  top  cells  of  the  amorphous  silicon  while  the  infrared \n",
            "spectrum  of  the  bottom  cells  will  be  taken  care  of  by  Nc-Si.  An  a-Si  is  widely  used  in  the  production  of  pocket \n",
            "calculators and also to power some private homes and thin-film transistor in LCDs. \n",
            "\n",
            "2.  Second Generation Solar Photovoltaic \n",
            "\n",
            "Multi-Junction Solar Cell (M-J) \n",
            "\n",
            "Multi junction solar cell consists of different semiconductor materials that were made of multiple p-n junctions. The \n",
            "type of p-n junction material and the wavelengths of light absorbed by the cell will determine the quantity of electric \n",
            "current  to  be  generated.  The  use  of  multiple  semi-conducting  materials  improves  the  efficiency  and  rate  of \n",
            "conversion of sunlight by the cell to electrical energy. Furthermore, each layer of the junction has different band \n",
            "gap which allows it to absorb electromagnetic radiation over different portions of the spectrum. The Advantage of \n",
            "M-J cells is that it is used in special application such as space exploration and satellite. It is also used in Concentrator \n",
            "Photovoltaics (CPV) to focus sunlight on a small highly efficient M-J solar cells. \n",
            "\n",
            "Quantum Dot Solar Cells (QDSC) \n",
            "\n",
            "A QDSC was designed to make use of quantum dots as a PV absorbing material. With the rapid growth of QDSC, \n",
            "if no characteristic defect is detected in nearest feature it will replace other bulky materials such as Copper Indium \n",
            "Gallium Selenide (CIGS) or CdTe and Silicon. The excellent characteristics of changing the dots' size of QDSC due \n",
            "to its tunable band gap makes it attractive for multi junction solar cells. This is because varieties of materials are \n",
            "used to improve the efficiency of QDSC by effectively harnessing M-J portions of the solar. \n",
            "\n",
            "3.  Third Generation of Solar Photovoltaic \n",
            "\n",
            "Dye-Sensitized Solar Cells (DSSC) \n",
            "\n",
            "Dye-sensitized solar cell (DSSC) is a third generational PV solar cell that converts visible light into electrical energy. \n",
            "DSSC is a disruptive technology that is very sensitive to light that it produces electricity at indoors and outdoors. \n",
            "Its high sensitivity to light enables it to rapidly converts both natural and artificial light to a reasonable quantity of \n",
            "electrical energy. A DSSC is a thin-film PV formed between electrolyte and photo-sensitized anode to yield photo-\n",
            "electrochemical  system.  The  advantage  of  DSSC  is  that  it  is  less  expensive  compare  to  conventional  solid  state \n",
            "electronic solar cell designs. Second advantage is that it converts artificial light into electrical energy even at indoor \n",
            "state. \n",
            "\n",
            "Perovskite Solar Cells (PSC) \n",
            "\n",
            "Perovskite cells are lead-halide based with crystal structures. A perovskites material is a hybrid solar cell material \n",
            "known  as  organic-inorganic  solar  cell  material[5],  [7],  [11],  [13],  [14].  The  general  chemical  formula  for \n",
            "perovskite material is given by ABX3 where A is organic or inorganic Cation (Na+, CH3NH3\n",
            "+ etc), B is inorganic \n",
            "Cation (Pb2+, Sn2+, Fe2+ etc) and X is inorganic Anion (Cl-, I-, O2-). It is produced from the by-products of crude oil \n",
            "(methyl  ammonium and  ethyl ammonium)  and inorganic compounds (lead iodide, tin iodide). The  advantages of \n",
            "Perovskite materials are (a) direct optical band gap (b) broad light absorption (c) bipolar transport (d) long carrier \n",
            "diffusion length and finally its flexibility which makes it a good material for solar photovoltaic fabrications. \n",
            "\n",
            "© Eze et al., 2023 \n",
            "This  is  an  Open  Access  article  distributed  under  the  terms  of  the  Creative  Commons  Attribution  License \n",
            "(http://creativecommons.org/licenses/by/4.0),  which  permits  unrestricted  use,  distribution,  and  reproduction  in \n",
            "any medium, provided the original work is properly cited.\n",
            "\fPage | 112 \n",
            "\n",
            "EEJOURNALS                                                                                                                                          OPEN ACCESS \n",
            "Advantages of Renewable Energy Sources Over Non-Renewable Sources \n",
            "\n",
            "1.  Renewable energy is a reliable source of power because its sources are non-depletable. It is replenishable in \n",
            "\n",
            "nature and costs little or nothing to harness it. \n",
            "\n",
            "2.  Renewable energy reduces the pollution and therefore reduces threats to our own health. Solar, wind and \n",
            "hydroelectric systems create negligible air pollution emissions and geothermal and biomass energy systems \n",
            "emissions are much lower than other non- renewable sources. \n",
            "\n",
            "3.  Renewable energy sources can combat climate change as it creates no direct greenhouse gas emissions. The \n",
            "only emissions that the renewable energy sources produce are indirect, meaning those that result from the \n",
            "manufacturing parts installation or operation and maintenance but even those emissions are little. \n",
            "\n",
            "4.  Renewable energy is less harmful to human nature, cheaper to operate and more user friendly compared to \n",
            "\n",
            "non-renewable sources of energy. \n",
            "\n",
            "CONCLUSION \n",
            "\n",
            "Solar photovoltaic is the invoke and trending renewable energy sources as it has the leading market since 2019 to \n",
            "2023. Hence, as of 2023 solar Photovoltaic is leading the renewable energy power generation/conversion followed \n",
            "by  wind  turbine.  China  is  the  most  invested  country  in  renewable  energy  followed  by  European  union.  The \n",
            "renewable energy research trend has shifted from other sources to third generation solar photovoltaic known as \n",
            "perovskites.  Perovskites  gives  the  best  energy  conversion  due  to  its  absorption  coefficient,  exceptional  carrier \n",
            "mobility, high dielectric constant, tunable bandgap, materials abundance. \n",
            "\n",
            "REFERENCES \n",
            "\n",
            "[1]  www.iea.org, “World Energy Investment 2023,” International Energy Agency (IEA), pp. 1–181, 2023. \n",
            "[2]  M. Ajay, WORLD SOLAR MARKET REPORT. 2021. \n",
            "[3]  M.  Kafle,  P.  Rai,  N.  Gurung,  and  S.  R.  Magar,  “An  analysis  on  Solar  Energy,”  2020.  doi: \n",
            "\n",
            "[4] \n",
            "\n",
            "[5] \n",
            "\n",
            "[6] \n",
            "\n",
            "[7] \n",
            "\n",
            "[8] \n",
            "\n",
            "10.13140/RG.2.2.11454.31043/1. \n",
            "V. H. U. Eze, M. C. Eze, C. C. Ogbonna, S. A. Ugwu, K. Emeka, and C. A. Onyeke, “Comprehensive Review \n",
            "of Recent Electric Vehicle Charging Stations,” Global Journal of Scientific and Research Publications, vol. 1, no. \n",
            "12, pp. 16–23, 2021. \n",
            "V. H. U. Eze et al., “A Systematic Review of Renewable Energy Trend,” NEWPORT INTERNATIONAL \n",
            "JOURNAL OF ENGINEERING AND PHYSICAL SCIENCES, 3(2), 93–99, 2023. \n",
            "V.  H.  U.  Eze,  U.  O.  Oparaku,  A.  S.  Ugwu,  and  C.  C.  Ogbonna,  “A  Comprehensive  Review  on  Recent \n",
            "Maximum Power Point Tracking of a Solar Photovoltaic Systems using Intelligent , Non-Intelligent and \n",
            "Hybrid based Techniques,” International Journal of Innovative Science and Research Technology, vol. 6, no. 5, pp. \n",
            "456–474, 2021. \n",
            "V. H. U. Eze, O. N. Iloanusi, M. C. Eze, and C. C. Osuagwu, “Maximum power point tracking technique \n",
            "based on optimized adaptive differential conductance,”  Cogent Engineering, vol. 4, no. 1, p. 1339336, 2017, \n",
            "doi: 10.1080/23311916.2017.1339336. \n",
            "V. H. U. Eze, M. C. Eze, V. Chijindu, E. Chidinma E, U. A. Samuel, and O. C. Chibuzo, “Development of \n",
            "Improved Maximum Power Point Tracking Algorithm Based on Balancing Particle Swarm Optimization \n",
            "for Renewable Energy Generation,” IDOSR Journal of Applied Sciences, 7 (1), 12–28 2022. \n",
            "\n",
            "[9]  W. O. Okafor, S. O. Edeagu, V. C. Chijindu, O. N. Iloanusi, and V. H. U. Eze, “A Comprehensive Review on \n",
            "\n",
            "Smart Grid Ecosystem,” IDOSR Journal of Applied Science, vol. 8, no. 1, pp. 25–63, 2023. \n",
            "\n",
            "[10]  C.  C.  Ogbonna,  V.  H.  U.  Eze,  E.  S.  Ikechuwu,  O.  Okafor,  O.  C.  Anichebe,  and  O.  U.  Oparaku,  “A \n",
            "Comprehensive  Review  of  Artificial  Neural  Network  Techniques  Used  for  Smart  Meter-Embedded \n",
            "forecasting System.,” IDOSR Journal of Applied Science, vol. 8, no. 1, pp. 13–24, 2023. \n",
            "\n",
            "[11]  V.  H.  U.  Eze,  “Development  of  Stable  and  Optimized  Bandgap  Perovskite  Materials  for  Photovoltaic \n",
            "\n",
            "Applications,” IDOSR Journal of Computer and Applied Science, vol. 8, no. 1, pp. 44–51, 2023. \n",
            "\n",
            "[12]  C. N. Ugwu and V. H. U. Eze, “Qualitative Research,” IDOSR of Computer and Applied Science, 8(1), 20–35, \n",
            "\n",
            "2023. \n",
            "\n",
            "[13]  M. C. Eze et al., “Improving the efficiency and stability of in-air fabricated perovskite solar cells using the \n",
            "mixed antisolvent of methyl acetate and chloroform,” Organic Electronics, vol. 107, pp. 1–10, Aug. 2022, doi: \n",
            "10.1016/j.orgel.2022.106552. \n",
            "\n",
            "[14]  M. C. Eze et al., “Optimum silver contact sputtering parameters for efficient perovskite solar cell fabrication,” \n",
            "Solar Energy Materials and Solar Cells, vol. 230, no. 2020, p. 111185, 2021, doi: 10.1016/j.solmat.2021.111185. \n",
            "[15]  N. O. Adelakun and A. O. Banji, “A Review Of Solar Energy,” Journal of Multidisciplinary Engineering Science \n",
            "\n",
            "© Eze et al., 2023 \n",
            "This  is  an  Open  Access  article  distributed  under  the  terms  of  the  Creative  Commons  Attribution  License \n",
            "(http://creativecommons.org/licenses/by/4.0),  which  permits  unrestricted  use,  distribution,  and  reproduction  in \n",
            "any medium, provided the original work is properly cited.\n",
            "\fEEJOURNALS                                                                                                                                          OPEN ACCESS \n",
            "\n",
            "[16] \n",
            "\n",
            "and Technology, vol. 6, no. 12, pp. 11344–11347, 2019, doi: 10.2139/ssrn.3579939. \n",
            "I.  Oghogho,  O.  Sulaimon,  D.  Egbune,  and  K.  V  Abanihi,  “SOLAR  ENERGY  POTENTIAL  AND  ITS \n",
            "DEVELOPMENT FOR SUSTAINABLE ENERGY GENERATION IN NIGERIA : A ROAD MAP TO \n",
            "ACHIEVING THIS FEAT,” International Journal of Engineering and Management Science, vol. 5, no. 2, pp. \n",
            "61–67, 2014. \n",
            "\n",
            "[17]  A. R. Prasad, S. Singh, and H. Nagar, “Importance of Solar Energy Technologies for Development of Rural \n",
            "\n",
            "Area in India,” IJSRST, vol. 3, no. 6, pp. 585–599, 2017. \n",
            "\n",
            "Page | 113 \n",
            "\n",
            "[18]  M. Irfan, Z. Zhao, M. Ahmad, and M. C. Mukeshimana, “Solar Energy Development in Pakistan : Barriers \n",
            "and  Policy  Recommendations,”  Journal  of  Sustainability,  vol.  11,  no.  1206,  pp.  1–18,  2019,  doi: \n",
            "10.3390/su11041206. \n",
            "\n",
            "[19]  K. Jäger, O. Isabella, A. H.  M. S. R. A. C. M. M. van  Swaaij, and M. Zeman,  Solar  Energy  Fundamentals, \n",
            "\n",
            "Technology, and Systems. 2014. \n",
            "\n",
            "[20]  B.  K.  Dey,  I.  Khan,  M.  N.  Abhinav,  and  A.  Bhattacharjee,  “Mathematical  modelling  and  characteristic \n",
            "analysis  of  Solar  PV  Cell,”  7th  IEEE  Annual  Information  Technology,  Electronics  and  Mobile  Communication \n",
            "Conference, IEEE IEMCON 2016, 2016, doi: 10.1109/IEMCON.2016.7746318. \n",
            "\n",
            "[21]  Y. Musa, “A review on Energy usage , Smart grid and Development,” IDOSR JOURNAL OF COMPUTER \n",
            "\n",
            "AND APPLIED SCIENCES, vol. 8, no. 1, pp. 36–43, 2023. \n",
            "\n",
            "[22]  M. H. Ahmadi, “Solar power technology for electricity generation : A critical review,”  Energy Science and \n",
            "\n",
            "Engineering, vol. 6, pp. 340–361, 2018, doi: 10.1002/ese3.239 \n",
            "\n",
            "[23]  Adebayo  Fashina,  Mustafa  Mundu,  Oluwole  Akiyode,  Lookman  Abdullah,Dahiru  Sanni,  Living  Ounyesiga \n",
            "(2018).  The  drivers  and  barriers  of  renewable  energy  applications  and  development  in  Uganda.Clean \n",
            "Technologies 1(1): 9-39 \n",
            "\n",
            "[24] Abdulfatah Abdu Yusuf, Onu Peter, Abdurrahaman S Hassan, Lawal A Tunji, Ismail A Oyagbola, Mundu M \n",
            "Mustafa,  Danjuma  A  Yusuf  (2019).Municipality  solid  waste  management  system  for  Mukono  District, \n",
            "Uganda. Procedia Manufacturing 35: 613-622. \n",
            "\n",
            "© Eze et al., 2023 \n",
            "This  is  an  Open  Access  article  distributed  under  the  terms  of  the  Creative  Commons  Attribution  License \n",
            "(http://creativecommons.org/licenses/by/4.0),  which  permits  unrestricted  use,  distribution,  and  reproduction  in \n",
            "any medium, provided the original work is properly cited. \n",
            "\n",
            "View publication stats' metadata={'author': 'DELL', 'creator': 'Microsoft® Word 2013', 'creationdate': '2023-07-18T17:32:15+03:00', 'moddate': '2023-07-18T17:32:15+03:00', 'producer': 'Microsoft® Word 2013', 'rgid': 'PB:372441898_AS:11431281175411840@1689705653643', 'total_pages': 10, 'source': '/content/OverviewofRenewableEnergyPowerGenerationandConversion2015-2023.pdf'}\n"
          ]
        }
      ],
      "source": [
        "docs = loader.load()\n",
        "print(docs[0])"
      ]
    },
    {
      "cell_type": "markdown",
      "metadata": {
        "id": "B9wZgcAoMQrO"
      },
      "source": [
        "Cleaning data"
      ]
    },
    {
      "cell_type": "code",
      "execution_count": 188,
      "metadata": {
        "colab": {
          "base_uri": "https://localhost:8080/"
        },
        "id": "hg15QEnhMUXr",
        "outputId": "67a67bb9-b47d-4798-aaab-68f9cdc31d71"
      },
      "outputs": [
        {
          "name": "stderr",
          "output_type": "stream",
          "text": [
            "[nltk_data] Downloading package punkt to /root/nltk_data...\n",
            "[nltk_data]   Package punkt is already up-to-date!\n",
            "[nltk_data] Downloading package stopwords to /root/nltk_data...\n",
            "[nltk_data]   Package stopwords is already up-to-date!\n",
            "[nltk_data] Downloading package wordnet to /root/nltk_data...\n",
            "[nltk_data]   Package wordnet is already up-to-date!\n",
            "[nltk_data] Downloading package punkt to /root/nltk_data...\n",
            "[nltk_data]   Package punkt is already up-to-date!\n"
          ]
        },
        {
          "data": {
            "text/plain": [
              "True"
            ]
          },
          "execution_count": 188,
          "metadata": {},
          "output_type": "execute_result"
        }
      ],
      "source": [
        "import nltk\n",
        "import re\n",
        "from nltk.tokenize import word_tokenize, sent_tokenize\n",
        "from nltk.corpus import stopwords\n",
        "from nltk.stem import WordNetLemmatizer\n",
        "\n",
        "# Ensure required NLTK resources are downloaded\n",
        "nltk.download('punkt')\n",
        "nltk.download('stopwords')\n",
        "nltk.download('wordnet')\n",
        "nltk.download('punkt')"
      ]
    },
    {
      "cell_type": "markdown",
      "metadata": {
        "id": "qTN32oo9wmoI"
      },
      "source": [
        "Splitting data inside the file"
      ]
    },
    {
      "cell_type": "code",
      "execution_count": 189,
      "metadata": {
        "id": "rDixCQ7aqker"
      },
      "outputs": [],
      "source": [
        "text_splitter = CharacterTextSplitter(\n",
        "    chunk_size = 2100,\n",
        "    chunk_overlap = 200,\n",
        "    length_function = len\n",
        ")"
      ]
    },
    {
      "cell_type": "code",
      "execution_count": 190,
      "metadata": {
        "id": "E4--ZP4Cpeey"
      },
      "outputs": [],
      "source": [
        "texts = text_splitter.create_documents([doc.page_content for doc in docs])"
      ]
    },
    {
      "cell_type": "code",
      "execution_count": 192,
      "metadata": {
        "colab": {
          "base_uri": "https://localhost:8080/"
        },
        "id": "1LVsipA-pebz",
        "outputId": "488882cc-51ce-4d77-dd23-5637ac97c153"
      },
      "outputs": [
        {
          "data": {
            "text/plain": [
              "16"
            ]
          },
          "execution_count": 192,
          "metadata": {},
          "output_type": "execute_result"
        }
      ],
      "source": [
        "len(texts)"
      ]
    },
    {
      "cell_type": "code",
      "execution_count": 193,
      "metadata": {
        "colab": {
          "base_uri": "https://localhost:8080/"
        },
        "id": "Cu-uXYXzhilp",
        "outputId": "17812e07-6413-4461-b5c5-22f463988bdd"
      },
      "outputs": [
        {
          "name": "stderr",
          "output_type": "stream",
          "text": [
            "[nltk_data] Downloading package punkt_tab to /root/nltk_data...\n",
            "[nltk_data]   Package punkt_tab is already up-to-date!\n"
          ]
        },
        {
          "data": {
            "text/plain": [
              "True"
            ]
          },
          "execution_count": 193,
          "metadata": {},
          "output_type": "execute_result"
        }
      ],
      "source": [
        "import nltk\n",
        "nltk.download('punkt_tab')"
      ]
    },
    {
      "cell_type": "code",
      "execution_count": 194,
      "metadata": {
        "id": "wdfVJKNbqFsU"
      },
      "outputs": [],
      "source": [
        "def remove_punctuation(word):\n",
        "    \"\"\"Remove punctuation from words\"\"\"\n",
        "    return re.sub(r'[^\\w\\s]', '', word) or ''"
      ]
    },
    {
      "cell_type": "markdown",
      "metadata": {},
      "source": [
        "Normalization Pipeline"
      ]
    },
    {
      "cell_type": "code",
      "execution_count": null,
      "metadata": {
        "id": "RBwCBvnVOmop"
      },
      "outputs": [],
      "source": [
        "def clean_text(text: str) -> str:\n",
        "    \"\"\"Cleans text by removing unwanted metadata, special characters, and excessive whitespace.\"\"\"\n",
        "    unwanted_patterns = [\n",
        "        r\"© .*?, \\d{4}\",  # Matches copyright statements like \"© Eze et al., 2023\"\n",
        "        r\"SEE PROFILE\",  # Matches unwanted text fragments\n",
        "        r\"\\x0c\",  # Removes special characters like form feed\n",
        "        r\"EEJOURNALS\",  # Example of journal metadata that may be unnecessary\n",
        "        r\"This is an open access article .*? license\",  # Matches open access license statements\n",
        "        r\"Page \\| \\d+\",     # Matches Page Number\n",
        "        r\"\\[\\d+\\]\",     # Matches citations - [10]\n",
        "        r\"\\[\\d+(,\\s*\\d+)*\\]\"    # Matches citations - [10, 12]\n",
        "    ]\n",
        "\n",
        "    for pattern in unwanted_patterns:\n",
        "        text = re.sub(pattern, \"\", text, flags=re.IGNORECASE)\n",
        "\n",
        "    # Normalize whitespace\n",
        "    text = re.sub(r\"\\s+\", \" \", text).strip()\n",
        "\n",
        "    \"\"\"Processes text by tokenizing, lowercasing, removing special characters, stopwords, and lemmatizing.\"\"\"\n",
        "    # Tokenize sentences\n",
        "    sentences = sent_tokenize(text)\n",
        "\n",
        "    lemmatizer = WordNetLemmatizer()\n",
        "    stop_words = set(stopwords.words('english')) \n",
        "\n",
        "    cleaned_sentences = []\n",
        "    for sentence in sentences:\n",
        "        # Tokenize words\n",
        "        words = word_tokenize(sentence)\n",
        "        # Convert to lowercase\n",
        "        words = [word.lower() for word in words]\n",
        "        # Remove punctuation\n",
        "        words = [remove_punctuation(word) for word in words if remove_punctuation(word)]\n",
        "        # Remove stopwords\n",
        "        words = [word for word in words if word not in stop_words]\n",
        "        # # Lemmatize words\n",
        "        # words = [lemmatizer.lemmatize(word) for word in words]\n",
        "\n",
        "        cleaned_sentences.append(\" \".join(words))\n",
        "\n",
        "    return \" \".join(cleaned_sentences)\n",
        "    # return text"
      ]
    },
    {
      "cell_type": "code",
      "execution_count": 196,
      "metadata": {
        "id": "c93YzIzhQlq1"
      },
      "outputs": [],
      "source": [
        "for i in range(len(texts)):\n",
        "  texts[i].page_content = clean_text(texts[i].page_content)"
      ]
    },
    {
      "cell_type": "code",
      "execution_count": 197,
      "metadata": {
        "colab": {
          "base_uri": "https://localhost:8080/"
        },
        "collapsed": true,
        "id": "V_pgpAddQ3dE",
        "outputId": "1ebfcdd9-def1-4214-aea5-220d6d4dd0cb"
      },
      "outputs": [
        {
          "data": {
            "text/plain": [
              "[Document(metadata={}, page_content='see discussions stats author profiles publication https wwwresearchgatenetpublication372441898 overview renewable energy power generation conversion 20152023 article july 2023 citations 24 7 authors including reads 401 val hyginus u eze kampala international university kiu 141 publications 1114 citations enerst edozie kampala international university kiu 36 publications 240 citations kalyankolo umaru muni university 30 publications 120 citations wisdom onyema okafor continental transfer technique 35 publications 194 citations content following page uploaded kiu publication extension 18 july 2023 user requested enhancement downloaded file open access eurasian experiment journal engineering eeje issn 2992409x eeje publications volume 4 issue 1 2023 overview renewable energy power generation conversion 20152023 val hyginus udoka eze1 enerst edozie2 kalyankolo umaru3 okafor wisdom4 ugwu chinyere n5 ogenyi fabian chukwudi6 12department electrical telecommunication computer engineering kampala international university uganda 156department publication extension kampala international university uganda 4department computer science technology university bedfordshire luton england 3department computer science electrical engineering muni university uganda corresponding author email ezehyginusudoka gmailcom'),\n",
              " Document(metadata={}, page_content='abstract paper successfully reviewed renewable energy trend 2015 2023 based investment power conversion future prospect review observed solar energy progressively taking lead cleanest energy generator followed wind turbine since 20192023 also detailed overview solar photovoltaic technologies photovoltaic conversion efficiency enhancement solar photovoltaic generations showed china invested country renewable energy followed european union paper clear renewable energy research trend shifted third generation solar photovoltaic perovskites power conversion efficiency enhancement maximum power point tracking perovskites third generational solar cell gives best energy conversion due absorption coefficient exceptional carrier mobility high dielectric constant tunable bandgap materials abundance recommended solar installers pv designer keywords solar photovoltaics renewable energy conversion efficiency perovskites mppt'),\n",
              " Document(metadata={}, page_content='introduction covid19 pandemic effect global energy crisis provided significant boost clean energy sector 21st decade quest clean safe energy increasing everyday improvement technology estimates 2023 2023e data 2021 annual clean energy showed 9 increase renewable energy investment compared fossil fuels showed 28 trillion usd approximately invested energy 2023 17 trillion usd invested clean energy including renewable power nuclear grids storage lowemission fuels efficiency improvements enduse renewables electrification hence remaining 1 trillion usd invested unabated fossil fuel supply power around 15 coal rest oil gas five years ago ratio fossil fuel clean energy 11 2023 ratio 117 showed clean energy investments boosted variety open access article distributed terms creative commons attribution license http creativecommonsorglicensesby40 permits unrestricted use distribution reproduction medium provided original work properly cited open access factors include improved economics time high volatile fossil fuel prices well enhanced government policy support one major causes shift conversional sources energy generation renewable problem depletion ozone layer caused excess concentration co2 atmosphere therefore humankind looking alternative energy sources like solar wind effective reliable energy harmless types renewable energy'),\n",
              " Document(metadata={}, page_content='types renewable energy wind energy type energy harnessed wind solar energy type energy harnessed sun main technologies solar photovoltaic using light sun solar thermal using sun heat hydroelectric energy type energy harnessed rivers freshwater currents biomass biogas type energy extracted organic materials geothermal energy type energy harnessed heat inside earth tidal energy type energy harnessed tides wave energy type energy harnessed ocean waves bioethanol type energy harnessed fermentation vegetation results organic fuel suitable vehicles biodiesel type energy harnessed vegetable oils among applications also results organic fuel suitable vehicles renewable energy trend section compare renewables clean nonerenewable fossil fuels sources energy based world financial investment performance one likely best future potential figure 1 global energy investment renewable nonerenewable 20152023 figure 1 observed investment none renewable energy 2015 year 20162019 slightly increase renewable energy investment year 2020 july 2023 investment renewable energy twothird investment none renewable energy figure1 one easily conclude serious shift none renewable sources energy renewable sources energy'),\n",
              " Document(metadata={}, page_content='open access article distributed terms creative commons attribution license http creativecommonsorglicensesby40 permits unrestricted use distribution reproduction medium provided original work properly cited open access figure 2 global energy sector investments 20192023 lowemission fuels include modern liquid gaseous bioenergy lowemission hydrogen lowemission hydrogenbased fuels end use refers renewables end use electrification buildings transport industrial sectors terms grids networks used interchangeably paper distinguish transmission distribution e 2023 means estimated values 2023 figure 2 observed renewable energy still taking lead global energy sector 20192023 followed upstream oil gas figure 3 annual clean energy investment countries 20192023e figure 3 observed china investing acidulously renewable energy every country world second largest investors renewable energy european union eu followed united state america usa russia indonesia least investment among selected countries 2023 records obtained open access article distributed terms creative commons attribution license http creativecommonsorglicensesby40 permits unrestricted use distribution reproduction medium provided original work properly cited open access'),\n",
              " Document(metadata={}, page_content='figure 4 renewable sources energy generated power 20202023 figure 4 showed energy generated difference renewable energy sources clearly observed solar leading trend leading renewable energies 2023 solar wind nuclear gas whereas hydro coal diminishing respect years solar photovoltaic brightest prospect among renewable sources energy rapid increase make great history energy sector 2050 second wind still performance level solar year 2020 may still among trending one decreased 2021 picked 2022 2023 overview solar energy major component solar photovoltaic pv system pv module made solar cells solar cell converts energy photons sunlight electricity means pv phenomenon found certain types semiconductor materials selenium se germanium ge silicon si isolated operation photovoltaic cell produces negligible amount power produce substantial electrical output power solar cells connected series parallel form pv module pv cells connected series increase voltage output connected parallel increase current output methods conversions solar energy two major ways solar energy converted electrical energy concentrating solar power solar photovoltaics concentrating solar power csp csp system produce heat electricity hundreds mirrors concentrate sunlight temperature commonly 400 1000 c figure 5 conversion process concentrated solar power plant'),\n",
              " Document(metadata={}, page_content='open access article distributed terms creative commons attribution license http creativecommonsorglicensesby40 permits unrestricted use distribution reproduction medium provided original work properly cited open access figure 5 concentrated solar power plant solar photovoltaic powers electricity produced photovoltaic solar energy system pv cells convert radiant energy sun directly electricity solar photovoltaic phenomenon common solar photovoltaic panels monocrystalline silicon solar cells polycrystalline silicon solar cells microcrystalline silicon solar cells well cadmium telluride copperindiumgalliumdiselenide cigs solar cells figure 6 solar photovoltaic cells bulb lighted conversion processes figure 6 solar photovoltaic cells'),\n",
              " Document(metadata={}, page_content='figure 6 solar photovoltaic cells photovoltaic pv systems rated terms maximum power highest power generated pv system standard test condition stc power output efficiency solar module depends many factors temperature irradiance spectral characteristics sunlight stc temperature 25c solar irradiance 1000 w m2 air mass 15 wind speed 2 ms solar panels tilt angle faces south 30 normal operating conditions maximum power generation pv possible pv panel always operating optimum power pv systems generate highest amount power incident sun beam perpendicular panel effective utilization power sun using pv systems improved adding pv efficiency enhancement ee systems solar tracking system fabrications solar photovoltaic efficiency optimization techniques maximum power point tracking mppt fabrication methods pv modules transfer highest percentage power generated load mpp mpp point along pv characteristic pv panel photovoltaic impedance equal load impedance also point'),\n",
              " Document(metadata={}, page_content='open access article distributed terms creative commons attribution license http creativecommonsorglicensesby40 permits unrestricted use distribution reproduction medium provided original work properly cited open access negligible energy loss transmission generated power load mpp along pv curve detected using mppt techniques mppt method operating photovoltaic system manner allows modules transfer power generated load implemented charge controllers alongside battery charge level monitoring system mppt varies electrical operating point pv system module deliver nearly generated power load ensures maximum power transferred photovoltaic pv panel load pv efficiency enhancement improved fabrication process selecting elements high absorption coefficient exceptional carrier mobility high dielectric constant tunable bandgap materials abundance classifications solar photovoltaic technology solar pv cell technologies generally classified thinfilm solar pv cell technology waferbased crystalline solar pv cell technology recently emerging technologies two major commercial photovoltaic technologies invoke used photovoltaic designers due trending availability renewable energy market ii waferbased solar cells made crystalline silicon either single polycrystalline wafers ii thinfilm products typically incorporate thin layers pv active material placed glassmetal substrate using vacuum deposition'),\n",
              " Document(metadata={}, page_content='figure 7 solar generation cell technology made different first second third generations figure 7 generation solar cell technology 1 first generation solar photovoltaic crystalline silicon csi crystalline silicon csi type solar cell efficiency around 1220 life span almost 30 years main applications single crystal solar cells space modules roofs facades used semiconductor material manufacturing photovoltaic solar cells electronically monocrystalline silicon used production microchips csi known wafer based silicon solar cells made wafers characteristics thickness 160190μm efficiency 256 05 areas 1437cm2 open circuit voltage 0740v open access article distributed terms creative commons attribution license http creativecommonsorglicensesby40 permits unrestricted use distribution reproduction medium provided original work properly cited open access polycrystalline solar cell multisi another name polycrystalline silicon polysilicon polysi highly purified type silicon used solar pv companies raw material process directly cast multicrystalline ingots grow single boule silicon crystals crystals sliced wafers assembled production solar pv cells advantage polysilicon cells use less expensive disadvantage less efficient amorphous silicon solar cells asi'),\n",
              " Document(metadata={}, page_content='amorphous silicon solar cells asi amorphous silicon one welldeveloped thinfilm technologies comprise microcrystalline form silicon high bandgap 17ev amorphous silicon materials made outstanding type silicon technology visible light spectrum absorbed top cells amorphous silicon infrared spectrum bottom cells taken care ncsi asi widely used production pocket calculators also power private homes thinfilm transistor lcds 2 second generation solar photovoltaic multijunction solar cell mj multi junction solar cell consists different semiconductor materials made multiple pn junctions type pn junction material wavelengths light absorbed cell determine quantity electric current generated use multiple semiconducting materials improves efficiency rate conversion sunlight cell electrical energy furthermore layer junction different band gap allows absorb electromagnetic radiation different portions spectrum advantage mj cells used special application space exploration satellite also used concentrator photovoltaics cpv focus sunlight small highly efficient mj solar cells quantum dot solar cells qdsc qdsc designed make use quantum dots pv absorbing material rapid growth qdsc characteristic defect detected nearest feature replace bulky materials copper indium gallium selenide cigs cdte silicon excellent characteristics changing dots size qdsc due tunable band gap makes attractive multi junction solar cells varieties materials used improve efficiency qdsc effectively harnessing mj portions solar'),\n",
              " Document(metadata={}, page_content='3 third generation solar photovoltaic dyesensitized solar cells dssc dyesensitized solar cell dssc third generational pv solar cell converts visible light electrical energy dssc disruptive technology sensitive light produces electricity indoors outdoors high sensitivity light enables rapidly converts natural artificial light reasonable quantity electrical energy dssc thinfilm pv formed electrolyte photosensitized anode yield photo electrochemical system advantage dssc less expensive compare conventional solid state electronic solar cell designs second advantage converts artificial light electrical energy even indoor state perovskite solar cells psc perovskite cells leadhalide based crystal structures perovskites material hybrid solar cell material known organicinorganic solar cell material general chemical formula perovskite material given abx3 organic inorganic cation na ch3nh3 etc b inorganic cation pb2 sn2 fe2 etc x inorganic anion cl o2 produced byproducts crude oil methyl ammonium ethyl ammonium inorganic compounds lead iodide tin iodide advantages perovskite materials direct optical band gap b broad light absorption c bipolar transport long carrier diffusion length finally flexibility makes good material solar photovoltaic fabrications open access article distributed terms creative commons attribution license http creativecommonsorglicensesby40 permits unrestricted use distribution reproduction medium provided original work properly cited'),\n",
              " Document(metadata={}, page_content='open access advantages renewable energy sources nonrenewable sources 1 renewable energy reliable source power sources nondepletable replenishable nature costs little nothing harness 2 renewable energy reduces pollution therefore reduces threats health solar wind hydroelectric systems create negligible air pollution emissions geothermal biomass energy systems emissions much lower non renewable sources 3 renewable energy sources combat climate change creates direct greenhouse gas emissions emissions renewable energy sources produce indirect meaning result manufacturing parts installation operation maintenance even emissions little 4 renewable energy less harmful human nature cheaper operate user friendly compared nonrenewable sources energy conclusion solar photovoltaic invoke trending renewable energy sources leading market since 2019 2023 hence 2023 solar photovoltaic leading renewable energy power generationconversion followed wind turbine china invested country renewable energy followed european union renewable energy research trend shifted sources third generation solar photovoltaic known perovskites perovskites gives best energy conversion due absorption coefficient exceptional carrier mobility high dielectric constant tunable bandgap materials abundance references wwwieaorg world energy investment 2023 international energy agency iea pp 1181 2023 ajay world solar market report 2021 kafle p rai n gurung r magar analysis solar energy 2020 doi'),\n",
              " Document(metadata={}, page_content='1013140rg2211454310431 v h u eze c eze c c ogbonna ugwu k emeka c onyeke comprehensive review recent electric vehicle charging stations global journal scientific research publications vol 1 12 pp 1623 2021 v h u eze et al systematic review renewable energy trend newport international journal engineering physical sciences 3 2 9399 2023 v h u eze u oparaku ugwu c c ogbonna comprehensive review recent maximum power point tracking solar photovoltaic systems using intelligent nonintelligent hybrid based techniques international journal innovative science research technology vol 6 5 pp 456474 2021 v h u eze n iloanusi c eze c c osuagwu maximum power point tracking technique based optimized adaptive differential conductance cogent engineering vol 4 1 p 1339336 2017 doi 1010802331191620171339336 v h u eze c eze v chijindu e chidinma e u samuel c chibuzo development improved maximum power point tracking algorithm based balancing particle swarm optimization renewable energy generation idosr journal applied sciences 7 1 1228 2022 w okafor edeagu v c chijindu n iloanusi v h u eze comprehensive review smart grid ecosystem idosr journal applied science vol 8 1 pp 2563 2023 c c ogbonna v h u eze e ikechuwu okafor c anichebe u oparaku comprehensive review artificial neural network techniques used smart meterembedded forecasting system idosr journal applied science vol 8 1 pp 1324 2023 v h u eze development stable optimized bandgap perovskite materials photovoltaic applications idosr journal computer applied science vol 8 1 pp 4451 2023'),\n",
              " Document(metadata={}, page_content='applications idosr journal computer applied science vol 8 1 pp 4451 2023 c n ugwu v h u eze qualitative research idosr computer applied science 8 1 2035 2023 c eze et al improving efficiency stability inair fabricated perovskite solar cells using mixed antisolvent methyl acetate chloroform organic electronics vol 107 pp 110 aug 2022 doi 101016jorgel2022106552 c eze et al optimum silver contact sputtering parameters efficient perovskite solar cell fabrication solar energy materials solar cells vol 230 2020 p 111185 2021 doi 101016jsolmat2021111185 n adelakun banji review solar energy journal multidisciplinary engineering science open access article distributed terms creative commons attribution license http creativecommonsorglicensesby40 permits unrestricted use distribution reproduction medium provided original work properly cited open access technology vol 6 12 pp 1134411347 2019 doi 102139ssrn3579939 oghogho sulaimon egbune k v abanihi solar energy potential development sustainable energy generation nigeria road map achieving feat international journal engineering management science vol 5 2 pp 6167 2014 r prasad singh h nagar importance solar energy technologies development rural area india ijsrst vol 3 6 pp 585599 2017'),\n",
              " Document(metadata={}, page_content='r prasad singh h nagar importance solar energy technologies development rural area india ijsrst vol 3 6 pp 585599 2017 irfan z zhao ahmad c mukeshimana solar energy development pakistan barriers policy recommendations journal sustainability vol 11 1206 pp 118 2019 doi 103390su11041206 k jäger isabella h r c van swaaij zeman solar energy fundamentals technology systems 2014 b k dey khan n abhinav bhattacharjee mathematical modelling characteristic analysis solar pv cell 7th ieee annual information technology electronics mobile communication conference ieee iemcon 2016 2016 doi 101109iemcon20167746318 musa review energy usage smart grid development idosr journal computer applied sciences vol 8 1 pp 3643 2023 h ahmadi solar power technology electricity generation critical review energy science engineering vol 6 pp 340361 2018 doi 101002ese3239 adebayo fashina mustafa mundu oluwole akiyode lookman abdullah dahiru sanni living ounyesiga 2018 drivers barriers renewable energy applications development ugandaclean technologies 1 1 939 abdulfatah abdu yusuf onu peter abdurrahaman hassan lawal tunji ismail oyagbola mundu mustafa danjuma yusuf 2019 municipality solid waste management system mukono district uganda procedia manufacturing 35 613622 open access article distributed terms creative commons attribution license http creativecommonsorglicensesby40 permits unrestricted use distribution reproduction medium provided original work properly cited view publication stats')]"
            ]
          },
          "execution_count": 197,
          "metadata": {},
          "output_type": "execute_result"
        }
      ],
      "source": [
        "texts"
      ]
    },
    {
      "cell_type": "markdown",
      "metadata": {
        "id": "-Ctd2tY9Drph"
      },
      "source": [
        "## **Embedding Formation**"
      ]
    },
    {
      "cell_type": "code",
      "execution_count": 198,
      "metadata": {
        "id": "1bCiGm_ODz7O"
      },
      "outputs": [],
      "source": [
        "from google.colab import userdata\n",
        "os.environ['OPENAI_API_KEY'] = userdata.get('OpenAI_Key')"
      ]
    },
    {
      "cell_type": "markdown",
      "metadata": {
        "id": "gn_FsL2sZ7vI"
      },
      "source": [
        "Embedding model - `OpenAI`"
      ]
    },
    {
      "cell_type": "code",
      "execution_count": 199,
      "metadata": {
        "id": "Ue-4Git4Dz4l"
      },
      "outputs": [],
      "source": [
        "openai_embedding = OpenAIEmbeddings(\n",
        "    model = 'text-embedding-3-small'\n",
        ")"
      ]
    },
    {
      "cell_type": "markdown",
      "metadata": {
        "id": "dyd4bNznaS_f"
      },
      "source": [
        "Embedding model - `HuggingFace` <br>\n",
        "Here, HuggingFace's embedding model has been implemented. Because the model resulted in improved accuracy"
      ]
    },
    {
      "cell_type": "code",
      "execution_count": 200,
      "metadata": {
        "id": "76rnZezAhCVd"
      },
      "outputs": [],
      "source": [
        "!pip install -qU langchain_huggingface"
      ]
    },
    {
      "cell_type": "code",
      "execution_count": 201,
      "metadata": {
        "id": "yTnUtJTdkBjV"
      },
      "outputs": [],
      "source": [
        "!pip install -qU sentence-transformers"
      ]
    },
    {
      "cell_type": "code",
      "execution_count": 202,
      "metadata": {
        "id": "tCqVWkm0jS19"
      },
      "outputs": [],
      "source": [
        "from sentence_transformers import SentenceTransformer\n",
        "\n",
        "# 1. Load a pretrained Sentence Transformer model\n",
        "model = SentenceTransformer('sentence-transformers/all-mpnet-base-v2')"
      ]
    },
    {
      "cell_type": "code",
      "execution_count": 203,
      "metadata": {
        "id": "gF27xG67hB4I"
      },
      "outputs": [],
      "source": [
        "from langchain_huggingface import HuggingFaceEmbeddings\n",
        "hf_embedding = HuggingFaceEmbeddings()"
      ]
    },
    {
      "cell_type": "markdown",
      "metadata": {
        "id": "wLQSdWERWBC9"
      },
      "source": [
        "Database Formation (Vector DB)"
      ]
    },
    {
      "cell_type": "code",
      "execution_count": 231,
      "metadata": {
        "id": "eqemtwPLDz14"
      },
      "outputs": [],
      "source": [
        "# Initialize Vector Storage\n",
        "vector_storage = Chroma(\n",
        "    collection_name = 'Renewable_Energy_Overview_Research_Gate', # If openai_embedding, change to \"Renewable_Energy_Overview_Research_Gate_v2\"\n",
        "    embedding_function = hf_embedding\n",
        ")"
      ]
    },
    {
      "cell_type": "code",
      "execution_count": 232,
      "metadata": {
        "id": "0Gal7DGhDKco"
      },
      "outputs": [],
      "source": [
        "# Load the data in DB\n",
        "storage_id = vector_storage.add_documents(texts)"
      ]
    },
    {
      "cell_type": "code",
      "execution_count": 233,
      "metadata": {
        "id": "a8AUbxVdaJgR"
      },
      "outputs": [],
      "source": [
        "results = vector_storage.similarity_search(\n",
        "    'What is the temperature of CSP in between?',\n",
        "    k = 2\n",
        ")"
      ]
    },
    {
      "cell_type": "code",
      "execution_count": 234,
      "metadata": {
        "colab": {
          "base_uri": "https://localhost:8080/"
        },
        "id": "FV2Cg5Msq_JI",
        "outputId": "a6db0065-c253-4454-d0aa-c4e74c8b14e5"
      },
      "outputs": [
        {
          "name": "stdout",
          "output_type": "stream",
          "text": [
            "ID: 9fee274e-465a-4f9a-8344-88937fddad2a \n",
            " CONTENT: figure 4 renewable source energy generated power 20202023 5 figure 4 showed energy generated difference renewable energy source clearly observed solar leading trend leading renewable energy 2023 solar wind nuclear gas whereas hydro coal diminishing respect year solar photovoltaic brightest prospect among renewable source energy rapid increase make great history energy sector 2050 second wind still performance level solar year 2020 may still among trending one decreased 2021 picked 2022 2023 5 overview solar energy major component solar photovoltaic pv system pv module made solar cell solar cell convert energy photon sunlight electricity mean pv phenomenon found certain type semiconductor material selenium se germanium ge silicon si isolated operation photovoltaic cell produce negligible amount power produce substantial electrical output power solar cell connected series parallel form pv module pv cell connected series increase voltage output connected parallel increase current output 6 7 method conversion solar energy two major way solar energy converted electrical energy concentrating solar power solar photovoltaics concentrating solar power csp csp system produce heat electricity hundred mirror concentrate sunlight temperature commonly 400 1000 c figure 5 conversion process concentrated solar power plant \n",
            "---------------------------------------\n",
            "ID: d052ceba-c530-42a2-b65d-e872d9afbbbe \n",
            " CONTENT: figure 7 solar generation cell technology made different first second third generations figure 7 generation solar cell technology 1 first generation solar photovoltaic crystalline silicon csi crystalline silicon csi type solar cell efficiency around 1220 life span almost 30 years main applications single crystal solar cells space modules roofs facades used semiconductor material manufacturing photovoltaic solar cells electronically monocrystalline silicon used production microchips csi known wafer based silicon solar cells made wafers characteristics thickness 160190μm efficiency 256 05 areas 1437cm2 open circuit voltage 0740v open access article distributed terms creative commons attribution license http creativecommonsorglicensesby40 permits unrestricted use distribution reproduction medium provided original work properly cited open access polycrystalline solar cell multisi another name polycrystalline silicon polysilicon polysi highly purified type silicon used solar pv companies raw material process directly cast multicrystalline ingots grow single boule silicon crystals crystals sliced wafers assembled production solar pv cells advantage polysilicon cells use less expensive disadvantage less efficient amorphous silicon solar cells asi \n",
            "---------------------------------------\n"
          ]
        }
      ],
      "source": [
        "for result in results:\n",
        "  print(f'ID: {result.id} \\n CONTENT: {result.page_content} \\n---------------------------------------')"
      ]
    },
    {
      "cell_type": "markdown",
      "metadata": {
        "id": "vZEKCFJBsNkJ"
      },
      "source": [
        "## **Setting up Retrivals**"
      ]
    },
    {
      "cell_type": "markdown",
      "metadata": {
        "id": "K59G-R2BsuWX"
      },
      "source": [
        "Set up function to convert the `results` data"
      ]
    },
    {
      "cell_type": "code",
      "execution_count": 235,
      "metadata": {
        "colab": {
          "base_uri": "https://localhost:8080/",
          "height": 123
        },
        "id": "H9Zhorw8sMFZ",
        "outputId": "b438dff3-b229-4cfe-f988-d484a660459f"
      },
      "outputs": [
        {
          "data": {
            "application/vnd.google.colaboratory.intrinsic+json": {
              "type": "string"
            },
            "text/plain": [
              "'figure 4 renewable source energy generated power 20202023 5 figure 4 showed energy generated difference renewable energy source clearly observed solar leading trend leading renewable energy 2023 solar wind nuclear gas whereas hydro coal diminishing respect year solar photovoltaic brightest prospect among renewable source energy rapid increase make great history energy sector 2050 second wind still performance level solar year 2020 may still among trending one decreased 2021 picked 2022 2023 5 overview solar energy major component solar photovoltaic pv system pv module made solar cell solar cell convert energy photon sunlight electricity mean pv phenomenon found certain type semiconductor material selenium se germanium ge silicon si isolated operation photovoltaic cell produce negligible amount power produce substantial electrical output power solar cell connected series parallel form pv module pv cell connected series increase voltage output connected parallel increase current output 6 7 method conversion solar energy two major way solar energy converted electrical energy concentrating solar power solar photovoltaics concentrating solar power csp csp system produce heat electricity hundred mirror concentrate sunlight temperature commonly 400 1000 c figure 5 conversion process concentrated solar power plant figure 7 solar generation cell technology made different first second third generations figure 7 generation solar cell technology 1 first generation solar photovoltaic crystalline silicon csi crystalline silicon csi type solar cell efficiency around 1220 life span almost 30 years main applications single crystal solar cells space modules roofs facades used semiconductor material manufacturing photovoltaic solar cells electronically monocrystalline silicon used production microchips csi known wafer based silicon solar cells made wafers characteristics thickness 160190μm efficiency 256 05 areas 1437cm2 open circuit voltage 0740v open access article distributed terms creative commons attribution license http creativecommonsorglicensesby40 permits unrestricted use distribution reproduction medium provided original work properly cited open access polycrystalline solar cell multisi another name polycrystalline silicon polysilicon polysi highly purified type silicon used solar pv companies raw material process directly cast multicrystalline ingots grow single boule silicon crystals crystals sliced wafers assembled production solar pv cells advantage polysilicon cells use less expensive disadvantage less efficient amorphous silicon solar cells asi'"
            ]
          },
          "execution_count": 235,
          "metadata": {},
          "output_type": "execute_result"
        }
      ],
      "source": [
        "def format_docs(docs):\n",
        "  return ' '.join(x.page_content for x in docs)\n",
        "format_docs(results)"
      ]
    },
    {
      "cell_type": "markdown",
      "metadata": {
        "id": "zXPrC6W2srgY"
      },
      "source": [
        "Set up retriever"
      ]
    },
    {
      "cell_type": "code",
      "execution_count": 236,
      "metadata": {
        "id": "Aexrlzs-sMCY"
      },
      "outputs": [],
      "source": [
        "retriever = vector_storage.as_retriever()"
      ]
    },
    {
      "cell_type": "markdown",
      "metadata": {
        "id": "uzXczt4ks90t"
      },
      "source": [
        "LLM instance - `OpenAI`"
      ]
    },
    {
      "cell_type": "code",
      "execution_count": 237,
      "metadata": {
        "id": "dsi6_TH2sL_p"
      },
      "outputs": [],
      "source": [
        "llm_openai = ChatOpenAI(model = 'gpt-4o-mini')"
      ]
    },
    {
      "cell_type": "markdown",
      "metadata": {
        "id": "s51-FPA0ySSs"
      },
      "source": [
        "LLM instance - `HuggingFace`"
      ]
    },
    {
      "cell_type": "code",
      "execution_count": 214,
      "metadata": {
        "id": "_MvOu-0eyXLC"
      },
      "outputs": [],
      "source": [
        "# from langchain_community.llms.huggingface_hub import HuggingFaceHub\n",
        "\n",
        "# os.environ[\"HUGGINGFACEHUB_API_TOKEN\"] = userdata.get('HF_TOKEN')\n",
        "\n",
        "# llmHF = HuggingFaceHub(\n",
        "#     repo_id=\"memevis/BGG27\",\n",
        "#     task=\"text-generation\"\n",
        "# )"
      ]
    },
    {
      "cell_type": "markdown",
      "metadata": {
        "id": "5i3c0nwvtV19"
      },
      "source": [
        "Prompt instance: Defining answering criteria(s)"
      ]
    },
    {
      "cell_type": "code",
      "execution_count": 238,
      "metadata": {
        "id": "dLctVZnasL9N"
      },
      "outputs": [],
      "source": [
        "template = \"\"\"\n",
        "Use the context provided to answer the question at the end. If you don't know the answer, take a guess if you're confident else say I don't know, don't try to make up an answer.\n",
        "Use three sentences maximum and keep the answer concise.\n",
        "\n",
        "context: {context}\n",
        "\n",
        "question: {question}\n",
        "\n",
        "answer:\n",
        "\"\"\""
      ]
    },
    {
      "cell_type": "code",
      "execution_count": 239,
      "metadata": {
        "id": "IZoCRNP-uXuj"
      },
      "outputs": [],
      "source": [
        "custom_template = PromptTemplate.from_template(template)"
      ]
    },
    {
      "cell_type": "markdown",
      "metadata": {
        "id": "v7lFPVckZavK"
      },
      "source": [
        "Here, `OpenAI` is chosen for **LLM**."
      ]
    },
    {
      "cell_type": "code",
      "execution_count": 240,
      "metadata": {
        "id": "aCITAQwXuXru"
      },
      "outputs": [],
      "source": [
        "rag_chain = (\n",
        "    {'context': retriever, 'question': RunnablePassthrough()}\n",
        "    | custom_template\n",
        "    | llm_openai\n",
        "    | StrOutputParser()\n",
        ")"
      ]
    },
    {
      "cell_type": "markdown",
      "metadata": {
        "id": "OGBW5Ev9J_ak"
      },
      "source": [
        "## **Test**"
      ]
    },
    {
      "cell_type": "code",
      "execution_count": 241,
      "metadata": {
        "colab": {
          "base_uri": "https://localhost:8080/",
          "height": 36
        },
        "id": "VaHW2X_8uXpB",
        "outputId": "e4dbfd5e-0058-4c5d-fe73-2970a2088456"
      },
      "outputs": [
        {
          "data": {
            "application/vnd.google.colaboratory.intrinsic+json": {
              "type": "string"
            },
            "text/plain": [
              "'The temperature of Concentrating Solar Power (CSP) typically ranges between 400 to 1000 degrees Celsius.'"
            ]
          },
          "execution_count": 241,
          "metadata": {},
          "output_type": "execute_result"
        }
      ],
      "source": [
        "rag_chain.invoke(\"What is the temperature of CSP in between?\")"
      ]
    },
    {
      "cell_type": "code",
      "execution_count": 219,
      "metadata": {
        "colab": {
          "base_uri": "https://localhost:8080/",
          "height": 36
        },
        "id": "2Z1Mjvmwav0T",
        "outputId": "d02b8b43-d200-4ba7-ee88-800fb5aedb2b"
      },
      "outputs": [
        {
          "data": {
            "application/vnd.google.colaboratory.intrinsic+json": {
              "type": "string"
            },
            "text/plain": [
              "\"I don't know.\""
            ]
          },
          "execution_count": 219,
          "metadata": {},
          "output_type": "execute_result"
        }
      ],
      "source": [
        "rag_chain.invoke(\"who is prime minister Modi?\")"
      ]
    },
    {
      "cell_type": "code",
      "execution_count": 220,
      "metadata": {
        "colab": {
          "base_uri": "https://localhost:8080/",
          "height": 53
        },
        "id": "2_1mv4jt7XK-",
        "outputId": "d148e7b7-bf3e-49b6-82b8-6fe260d66f9c"
      },
      "outputs": [
        {
          "data": {
            "application/vnd.google.colaboratory.intrinsic+json": {
              "type": "string"
            },
            "text/plain": [
              "'Kalyankolo Umaru is affiliated with Muni University and has published 30 publications with 120 citations. He is one of the authors of a paper on renewable energy power generation and conversion.'"
            ]
          },
          "execution_count": 220,
          "metadata": {},
          "output_type": "execute_result"
        }
      ],
      "source": [
        "rag_chain.invoke(\"Kalyankolo Umaru\")"
      ]
    },
    {
      "cell_type": "code",
      "execution_count": 221,
      "metadata": {
        "colab": {
          "base_uri": "https://localhost:8080/",
          "height": 36
        },
        "id": "oc_tFmsh68gY",
        "outputId": "fbc924bf-e441-4fb7-bc82-3d5c81fbaa5a"
      },
      "outputs": [
        {
          "data": {
            "application/vnd.google.colaboratory.intrinsic+json": {
              "type": "string"
            },
            "text/plain": [
              "'The associated authors with Kampala International University are Val Hyginus Udoka Eze, Enerst Edozie, and Kalyankolo Umaru.'"
            ]
          },
          "execution_count": 221,
          "metadata": {},
          "output_type": "execute_result"
        }
      ],
      "source": [
        "rag_chain.invoke(\"Who are the associated authors with Kampala International University?\")"
      ]
    },
    {
      "cell_type": "code",
      "execution_count": 222,
      "metadata": {
        "colab": {
          "base_uri": "https://localhost:8080/",
          "height": 36
        },
        "id": "FSaa7pgrFNv3",
        "outputId": "b1a322f3-29ed-45a5-9567-bed2dd86fbcc"
      },
      "outputs": [
        {
          "data": {
            "application/vnd.google.colaboratory.intrinsic+json": {
              "type": "string"
            },
            "text/plain": [
              "'Yes, the document mentions ResearchGate in the context of publication.'"
            ]
          },
          "execution_count": 222,
          "metadata": {},
          "output_type": "execute_result"
        }
      ],
      "source": [
        "rag_chain.invoke(\"is the document by researchgate?\")"
      ]
    },
    {
      "cell_type": "code",
      "execution_count": 223,
      "metadata": {
        "colab": {
          "base_uri": "https://localhost:8080/",
          "height": 53
        },
        "id": "Grq_jKijJj8C",
        "outputId": "fd19901f-d8c7-44f8-e1bf-30f4fd56df78"
      },
      "outputs": [
        {
          "data": {
            "application/vnd.google.colaboratory.intrinsic+json": {
              "type": "string"
            },
            "text/plain": [
              "'Pakistan is mentioned in the context of solar energy development and the barriers to its implementation, along with policy recommendations. India is also mentioned in relation to the importance of solar energy technologies for rural area development.'"
            ]
          },
          "execution_count": 223,
          "metadata": {},
          "output_type": "execute_result"
        }
      ],
      "source": [
        "rag_chain.invoke(\"Why is Pakistan mentioned? Is India mentioned too?\")"
      ]
    },
    {
      "cell_type": "code",
      "execution_count": 224,
      "metadata": {
        "colab": {
          "base_uri": "https://localhost:8080/",
          "height": 36
        },
        "id": "Hsi8ZRYGUIXJ",
        "outputId": "f0f900aa-d687-4c0a-d316-b97c17ca2e22"
      },
      "outputs": [
        {
          "data": {
            "application/vnd.google.colaboratory.intrinsic+json": {
              "type": "string"
            },
            "text/plain": [
              "'The authors mentioned are Val Hyginus U. Eze, Enerst Edozie, Kalyankolo Umaru, Wisdom Onyema Okafor, and others associated with various publications.'"
            ]
          },
          "execution_count": 224,
          "metadata": {},
          "output_type": "execute_result"
        }
      ],
      "source": [
        "rag_chain.invoke(\"authors name?\")"
      ]
    },
    {
      "cell_type": "code",
      "execution_count": null,
      "metadata": {
        "id": "_sO8swdw-5sR"
      },
      "outputs": [],
      "source": []
    },
    {
      "cell_type": "code",
      "execution_count": null,
      "metadata": {
        "id": "-k8htSBT-5pp"
      },
      "outputs": [],
      "source": []
    }
  ],
  "metadata": {
    "accelerator": "GPU",
    "colab": {
      "gpuType": "T4",
      "provenance": []
    },
    "kernelspec": {
      "display_name": "Python 3",
      "name": "python3"
    },
    "language_info": {
      "name": "python"
    }
  },
  "nbformat": 4,
  "nbformat_minor": 0
}
